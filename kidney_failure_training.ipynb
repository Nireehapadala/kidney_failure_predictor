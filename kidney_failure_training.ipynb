{
  "nbformat": 4,
  "nbformat_minor": 0,
  "metadata": {
    "colab": {
      "provenance": []
    },
    "kernelspec": {
      "name": "python3",
      "display_name": "Python 3"
    },
    "language_info": {
      "name": "python"
    }
  },
  "cells": [
    {
      "cell_type": "code",
      "execution_count": 2,
      "metadata": {
        "colab": {
          "base_uri": "https://localhost:8080/"
        },
        "id": "mZNQzX-A7HjD",
        "outputId": "c2ba3ef1-230d-4a6c-c1a2-bfac89e50a2f"
      },
      "outputs": [
        {
          "output_type": "execute_result",
          "data": {
            "text/plain": [
              "['id',\n",
              " 'age',\n",
              " 'sg',\n",
              " 'al',\n",
              " 'su',\n",
              " 'rbc',\n",
              " 'pc',\n",
              " 'pcc',\n",
              " 'bgr',\n",
              " 'bu',\n",
              " 'sc',\n",
              " 'sod',\n",
              " 'pot',\n",
              " 'hemo',\n",
              " 'pcv',\n",
              " 'wc',\n",
              " 'rc',\n",
              " 'htn',\n",
              " 'dm',\n",
              " 'cad',\n",
              " 'appet',\n",
              " 'pe',\n",
              " 'ane']"
            ]
          },
          "metadata": {},
          "execution_count": 2
        }
      ],
      "source": [
        "labels='id age sg al su rbc pc pcc bgr bu sc sod pot hemo pcv wc rc htn dm cad appet pe ane'.split()\n",
        "labels"
      ]
    },
    {
      "cell_type": "code",
      "source": [
        "input_data=[]\n",
        "for label in labels:\n",
        "  input_data.append(float(input(label+': ')))\n",
        "input_data"
      ],
      "metadata": {
        "colab": {
          "base_uri": "https://localhost:8080/"
        },
        "id": "xVGyuwLU8Nmi",
        "outputId": "ad34284c-8bb6-416f-f0ce-e48b45177c3a"
      },
      "execution_count": 4,
      "outputs": [
        {
          "name": "stdout",
          "output_type": "stream",
          "text": [
            "id: 34\n",
            "age: 50\n",
            "sg: 1\n",
            "al: 1\n",
            "su: 1\n",
            "rbc: 1\n",
            "pc: 1\n",
            "pcc: 1\n",
            "bgr: 1\n",
            "bu: 1\n",
            "sc: 1\n",
            "sod: 1\n",
            "pot: 1\n",
            "hemo: 1\n",
            "pcv: 1\n",
            "wc: 1\n",
            "rc: 1\n",
            "htn: 1\n",
            "dm: 1\n",
            "cad: 1\n",
            "appet: 1\n",
            "pe: 1\n",
            "ane: 1\n"
          ]
        },
        {
          "output_type": "execute_result",
          "data": {
            "text/plain": [
              "[34.0,\n",
              " 50.0,\n",
              " 1.0,\n",
              " 1.0,\n",
              " 1.0,\n",
              " 1.0,\n",
              " 1.0,\n",
              " 1.0,\n",
              " 1.0,\n",
              " 1.0,\n",
              " 1.0,\n",
              " 1.0,\n",
              " 1.0,\n",
              " 1.0,\n",
              " 1.0,\n",
              " 1.0,\n",
              " 1.0,\n",
              " 1.0,\n",
              " 1.0,\n",
              " 1.0,\n",
              " 1.0,\n",
              " 1.0,\n",
              " 1.0]"
            ]
          },
          "metadata": {},
          "execution_count": 4
        }
      ]
    },
    {
      "cell_type": "code",
      "source": [
        "from keras.models import load_model\n",
        "import numpy as np\n",
        "obj = load_model('/content/kidney.h5')\n",
        "in_array=np.array(input_data)\n",
        "# Reshape the input array to have a batch dimension\n",
        "in_array = in_array.reshape(1, -1)\n",
        "result = obj.predict(in_array)\n",
        "# The prediction result will be an array, even for a single input.\n",
        "# We need to access the first (and only) element to get the prediction score.\n",
        "if result[0]>0.5:\n",
        "  print(\"you have kidney failure\")\n",
        "else:\n",
        "  print(\"you have perfect kidneys\")"
      ],
      "metadata": {
        "colab": {
          "base_uri": "https://localhost:8080/"
        },
        "id": "8h5MtNU28ZSP",
        "outputId": "e6d3a297-4d96-407e-dbe3-7558f4e34c34"
      },
      "execution_count": 9,
      "outputs": [
        {
          "output_type": "stream",
          "name": "stderr",
          "text": [
            "WARNING:absl:Compiled the loaded model, but the compiled metrics have yet to be built. `model.compile_metrics` will be empty until you train or evaluate the model.\n",
            "WARNING:tensorflow:5 out of the last 5 calls to <function TensorFlowTrainer.make_predict_function.<locals>.one_step_on_data_distributed at 0x7dabf1d7f240> triggered tf.function retracing. Tracing is expensive and the excessive number of tracings could be due to (1) creating @tf.function repeatedly in a loop, (2) passing tensors with different shapes, (3) passing Python objects instead of tensors. For (1), please define your @tf.function outside of the loop. For (2), @tf.function has reduce_retracing=True option that can avoid unnecessary retracing. For (3), please refer to https://www.tensorflow.org/guide/function#controlling_retracing and https://www.tensorflow.org/api_docs/python/tf/function for  more details.\n"
          ]
        },
        {
          "output_type": "stream",
          "name": "stdout",
          "text": [
            "\u001b[1m1/1\u001b[0m \u001b[32m━━━━━━━━━━━━━━━━━━━━\u001b[0m\u001b[37m\u001b[0m \u001b[1m0s\u001b[0m 107ms/step\n",
            "you have perfect kidneys\n"
          ]
        }
      ]
    },
    {
      "cell_type": "code",
      "source": [],
      "metadata": {
        "id": "56rPGW7q8_De"
      },
      "execution_count": null,
      "outputs": []
    }
  ]
}